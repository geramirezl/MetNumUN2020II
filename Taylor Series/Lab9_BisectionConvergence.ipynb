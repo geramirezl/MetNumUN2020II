{
  "nbformat": 4,
  "nbformat_minor": 0,
  "metadata": {
    "colab": {
      "name": "Lab9_BisectionConvergence.ipynb",
      "provenance": []
    },
    "kernelspec": {
      "name": "python3",
      "display_name": "Python 3"
    }
  },
  "cells": [
    {
      "cell_type": "code",
      "metadata": {
        "id": "zyqlRUSLrngT"
      },
      "source": [
        "import matplotlib.pyplot as plt\n",
        "import numpy as np"
      ],
      "execution_count": 1,
      "outputs": []
    },
    {
      "cell_type": "code",
      "metadata": {
        "colab": {
          "base_uri": "https://localhost:8080/",
          "height": 281
        },
        "id": "QHgohDENr6HU",
        "outputId": "978ca02a-7daf-4a63-c86d-3276ea8336c0"
      },
      "source": [
        "extent = 0.0, 4.0, 0.0, 4.0 \n",
        "   \n",
        "width = 400\n",
        "height= 400\n",
        "pixels = np.full((width,height,3),0)\n",
        "for i in range(width):\n",
        "  for j in range(height):\n",
        "    if (j>i+100): \n",
        "      pixels[height-j-1,i,0] = pixels[height-j-1,i,1] = pixels[height-j-1,i,2] = 255\n",
        "      #print(i,j)\n",
        "\n",
        "plt.title('bisection_convergence')\n",
        "plt.imshow(pixels,extent = extent)\n",
        "plt.show()"
      ],
      "execution_count": 2,
      "outputs": [
        {
          "output_type": "display_data",
          "data": {
            "image/png": "[encoded data removed]",
            "text/plain": [
              "<Figure size 432x288 with 1 Axes>"
            ]
          },
          "metadata": {
            "tags": [],
            "needs_background": "light"
          }
        }
      ]
    },
    {
      "cell_type": "markdown",
      "metadata": {
        "id": "dBm5kXcssCy0"
      },
      "source": [
        "# 1.Modify the BisectionConvergence.ipynb to be applied to f(x) = (x-1) *(x-2) *(x-3)*(x-4) for x in [0.5)."
      ]
    },
    {
      "cell_type": "code",
      "metadata": {
        "colab": {
          "base_uri": "https://localhost:8080/",
          "height": 312
        },
        "id": "EtLpOV_Hr9y8",
        "outputId": "13b626aa-b8df-40e6-eaad-e94ceacbd7d5"
      },
      "source": [
        "def func(x): \n",
        "    return (x-1) *(x-2) *(x-3) *(x-4) \n",
        "\n",
        "\n",
        "x = np.linspace(0.0,5.0,500)\n",
        "fig, ax = plt.subplots()\n",
        "ax.plot(x,func(x))\n",
        "ax.axhline(y=0, color='k')\n",
        "ax.axvline(x=0, color='k')\n",
        "ax.grid(True, which='both')\n",
        "plt.title('f(x)=(x-1) *(x-2) *(x-3)*(x-4)')\n",
        "plt.xlabel('x')\n",
        "plt.ylabel('f(x)')"
      ],
      "execution_count": 3,
      "outputs": [
        {
          "output_type": "execute_result",
          "data": {
            "text/plain": [
              "Text(0, 0.5, 'f(x)')"
            ]
          },
          "metadata": {
            "tags": []
          },
          "execution_count": 3
        },
        {
          "output_type": "display_data",
          "data": {
            "image/png": "[encoded data removed]",
            "text/plain": [
              "<Figure size 432x288 with 1 Axes>"
            ]
          },
          "metadata": {
            "tags": [],
            "needs_background": "light"
          }
        }
      ]
    },
    {
      "cell_type": "code",
      "metadata": {
        "colab": {
          "base_uri": "https://localhost:8080/",
          "height": 294
        },
        "id": "gjb06RMishtt",
        "outputId": "2980cf08-e790-482c-b0b3-3aec8fdc4592"
      },
      "source": [
        "width = height = 80\n",
        "xi=0.0\n",
        "xf=5.0\n",
        "eps = 1e-3\n",
        "mxiter = 1e4\n",
        "\n",
        "pixels = np.full((width,height,3),0)\n",
        "# roots\n",
        "r1 = 1\n",
        "r2 = 2\n",
        "r3 = 3\n",
        "r4= 4\n",
        "   \n",
        "multcol = 5\n",
        "\n",
        "for i in range(height):\n",
        "            \n",
        "            aa =   float(xi + (i * (xf-xi) /height))\n",
        "            \n",
        "            for j in range(width):\n",
        "                bb= float(xi + (j* (xf-xi)/ width))\n",
        "\n",
        "                a = aa\n",
        "                b = bb\n",
        "                c=a\n",
        "                iter = 0\n",
        "                \n",
        "                while ((b-a) >= eps and (func(a) * func(b) <= 0)): \n",
        "                   \n",
        "                    # Check if a is root \n",
        "                    if (func(a) == 0.0): \n",
        "                      c=a\n",
        "                      break\n",
        "\n",
        "                    # Check if b is root \n",
        "                    if (func(b) == 0.0): \n",
        "                      c=b\n",
        "                      break\n",
        "  \n",
        "                    # Find middle point \n",
        "                    c = (a+b)/2\n",
        "    \n",
        "                    # Decide the side to repeat the steps \n",
        "                    if (func(c)*func(a) < 0): \n",
        "                        b = c \n",
        "                    else: \n",
        "                        a = c \n",
        "                    \n",
        "                    iter = iter + 1\n",
        "                    \n",
        "                    if (iter > mxiter):\n",
        "                     break\n",
        "\n",
        "                # Pixels colored using the roots\n",
        "                if abs(c-r1)<eps:\n",
        "                    # color red\n",
        "                    pixels[height-j-1,i] = (255 - iter*multcol, 0, 0)\n",
        "                elif abs(c-r2)<=eps:\n",
        "                    # color green\n",
        "                    pixels[height-j-1,i] = (0, 255 - iter*multcol, 0)\n",
        "                elif abs(c-r3)<=eps:\n",
        "                    # color blue\n",
        "                    pixels[height-j-1,i] = (0, 0, 255 - iter*multcol)\n",
        "                elif abs(c-r4)<=eps:\n",
        "                    # color purple \n",
        "                    pixels[height-j-1,i] = (255 - iter*multcol, 0, 255 - iter*multcol)\n",
        "                elif (b < a):\n",
        "                    pixels[height-j-1,i] = (255, 255, 0)\n",
        "                elif (func(a) * func(b) >= 0):\n",
        "                    pixels[height-j-1,i] = (255, 255, 255)\n",
        "                else:   \n",
        "                    pixels[height-j-1,i] = (0, 0, 0)\n",
        "\n",
        "                \n",
        "     \n",
        "plt.title('bisection_convergence')\n",
        "plt.xlabel(\"a in (\"+str(xi)+\",\"+str(xf)+\")\")\n",
        "plt.ylabel(\"b in (\"+str(xi)+\",\"+str(xf)+\")\")\n",
        "extent = xi, xf, xi, xf\n",
        "plt.imshow(pixels,extent =extent)\n",
        "plt.show()"
      ],
      "execution_count": 9,
      "outputs": [
        {
          "output_type": "display_data",
          "data": {
            "image/png": "[encoded data removed]",
            "text/plain": [
              "<Figure size 432x288 with 1 Axes>"
            ]
          },
          "metadata": {
            "tags": [],
            "needs_background": "light"
          }
        }
      ]
    },
    {
      "cell_type": "markdown",
      "metadata": {
        "id": "XoKaR7iGv9Y0"
      },
      "source": [
        "# 2.Describe the regions where starting intervals (a,b) converge and to which root does it converge. Also which regions do not converge and why."
      ]
    },
    {
      "cell_type": "markdown",
      "metadata": {
        "id": "uqbNomEzxawV"
      },
      "source": [
        "En la imagen resultante se identifica el eje vertical por los valores que toma b y el eje horizontal los valores que toma a. Estos valores van de 0 a 5 para determinar el intervalo (a,b) en cada punto del gráfico, que se colorea según su convergencia. Esta convergencia se dá por el método de la bisección, que consiste en dividir el intervalo tomado hasta que resulte en un punto que es una raiz."
      ]
    },
    {
      "cell_type": "markdown",
      "metadata": {
        "id": "w07sEfqhwB38"
      },
      "source": [
        "Primero se determina el color amarillo donde, a será mayor que b , y esos intervalos no se toman para converger a una raiz, a excepción donde a= a alguna raiz, donde la raiz a la que converge es = a."
      ]
    },
    {
      "cell_type": "markdown",
      "metadata": {
        "id": "n-Um0awgw0tc"
      },
      "source": [
        "Luego definimos a que raiz converge  de cada par de a y b para los intervalos (a,b)\n",
        "* El color rojo signifca que al tomar ese intervalo , converge a la raiz r1= 1\n",
        "*El color verde signifca que al tomar ese intervalo , converge a la raiz r2= 2\n",
        "*El color azul signifca que al tomar ese intervalo , converge a la raiz r3= 3\n",
        "*El color purpura signifca que al tomar ese intervalo , converge a la raiz r4= 4"
      ]
    },
    {
      "cell_type": "markdown",
      "metadata": {
        "id": "Mlp4_oWmynqX"
      },
      "source": [
        "Y la región en blanco la definimos como la región donde, al tomar esos valores a y b, el intervalo no tendria convergencia.\n",
        "\n",
        "Esto se da ya que para encontrar la raiz, se busca que la función en cada extremo del intervalo sea de diferente signo, o que alguno sea igual a 0 (que significaria que un extremo se encuentra en una raiz) , es decir:\n",
        "\n",
        "f(a)<0  y f(b)>0\n",
        "\n",
        "o\n",
        "\n",
        "f(a)>0 y f(b)<0\n",
        "\n",
        "o \n",
        "\n",
        "f(a)=0\n",
        "\n",
        "o\n",
        "\n",
        "f(b)=0\n",
        "\n",
        "Si no se cumple alguna de estas, no se puede hallar una raiz por este metodo en ese intervalo."
      ]
    }
  ]
}