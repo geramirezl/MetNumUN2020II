{
  "nbformat": 4,
  "nbformat_minor": 0,
  "metadata": {
    "colab": {
      "name": "3_Taylor_e_to_x_error",
      "provenance": []
    },
    "kernelspec": {
      "name": "python3",
      "display_name": "Python 3"
    }
  },
  "cells": [
    {
      "cell_type": "markdown",
      "metadata": {
        "id": "TybWVt0Vzr6Q"
      },
      "source": [
        "## 3.Reproduce Taylor_e_to_x_error.ipynb for ln(x+1) and sin(x)"
      ]
    },
    {
      "cell_type": "markdown",
      "metadata": {
        "id": "QUIkSGlnz70I"
      },
      "source": [
        "# *   **$e^x$**"
      ]
    },
    {
      "cell_type": "code",
      "metadata": {
        "colab": {
          "base_uri": "https://localhost:8080/"
        },
        "id": "29Sq6Pgmz_ac",
        "outputId": "ddcd0815-2deb-4b99-eea9-55cc9a949542"
      },
      "source": [
        "import math\n",
        "\n",
        "x = 2\n",
        "e_to_2 = x**0/math.factorial(0) + x**1/math.factorial(1) + x**2/math.factorial(2) + x**3/math.factorial(3) + x**4/math.factorial(4)\n",
        "print(e_to_2)"
      ],
      "execution_count": 1,
      "outputs": [
        {
          "output_type": "stream",
          "text": [
            "7.0\n"
          ],
          "name": "stdout"
        }
      ]
    },
    {
      "cell_type": "code",
      "metadata": {
        "colab": {
          "base_uri": "https://localhost:8080/"
        },
        "id": "41ch45D90GAu",
        "outputId": "a8bf4f25-5299-4a98-af20-daa83561339a"
      },
      "source": [
        "print(math.exp(2))"
      ],
      "execution_count": 2,
      "outputs": [
        {
          "output_type": "stream",
          "text": [
            "7.38905609893065\n"
          ],
          "name": "stdout"
        }
      ]
    },
    {
      "cell_type": "code",
      "metadata": {
        "colab": {
          "base_uri": "https://localhost:8080/"
        },
        "id": "k2DlA1W00MGw",
        "outputId": "a46bf33e-06a5-4983-d963-56a0057274d0"
      },
      "source": [
        "import math\n",
        "\n",
        "x = 2\n",
        "e_to_2 = 0\n",
        "for i in range(10):\n",
        "    e_to_2 += x**i/math.factorial(i) \n",
        "print(e_to_2)"
      ],
      "execution_count": 3,
      "outputs": [
        {
          "output_type": "stream",
          "text": [
            "7.3887125220458545\n"
          ],
          "name": "stdout"
        }
      ]
    },
    {
      "cell_type": "markdown",
      "metadata": {
        "id": "R1DKZ_YF0Fj2"
      },
      "source": [
        "Taylor series for $f(x) = e^x$ about $c=0$ (Maclaurin) \n",
        "$$ E_n = \\frac{f^{(n+1)}(\\xi)}{(n+1)!}(x-c)^{(n+1)}  = \\frac{e^\\xi}{(n+1)!}x^{(n+1)} \\le \\frac{e^x}{(n+1)!} x^{(n+1)}\\text{ given that }$$\n",
        "\n",
        "If we want $E_n \\le \\epsilon$ then we need $n$ such that because $e^x \\ge e^\\xi$, for  $c=0 \\le \\xi \\le x$ \n",
        "\n",
        "$$ \\frac{e^x}{(n+1)!}x^{(n+1)} < \\epsilon$$ because $e^x \\ge e^\\xi$, for  $0 \\le \\xi \\le x$"
      ]
    },
    {
      "cell_type": "code",
      "metadata": {
        "colab": {
          "base_uri": "https://localhost:8080/"
        },
        "id": "z_vftCrd0Zfh",
        "outputId": "ffa4860e-cca1-400f-fbbb-0dc2c2d8099b"
      },
      "source": [
        "import math\n",
        "\n",
        "x = 10\n",
        "epsilon = 10**(-4)\n",
        "\n",
        "for k in range(1000):\n",
        "  if (  ( (math.exp(x) * x**(k+1)) / math.factorial(k+1) ) < epsilon):\n",
        "    break\n",
        "print(k)\n",
        "\n",
        "e_to_x = 0\n",
        "for i in range(k):\n",
        "    print(i,' ',e_to_x, ' delta ', x**i/math.factorial(i))\n",
        "    e_to_x += x**i/math.factorial(i) \n",
        "    \n",
        "print('math.exp(10) = ',math.exp(10))"
      ],
      "execution_count": 4,
      "outputs": [
        {
          "output_type": "stream",
          "text": [
            "40\n",
            "0   0  delta  1.0\n",
            "1   1.0  delta  10.0\n",
            "2   11.0  delta  50.0\n",
            "3   61.0  delta  166.66666666666666\n",
            "4   227.66666666666666  delta  416.6666666666667\n",
            "5   644.3333333333334  delta  833.3333333333334\n",
            "6   1477.6666666666667  delta  1388.888888888889\n",
            "7   2866.5555555555557  delta  1984.126984126984\n",
            "8   4850.68253968254  delta  2480.15873015873\n",
            "9   7330.84126984127  delta  2755.731922398589\n",
            "10   10086.573192239859  delta  2755.731922398589\n",
            "11   12842.305114638448  delta  2505.210838544172\n",
            "12   15347.51595318262  delta  2087.67569878681\n",
            "13   17435.191651969428  delta  1605.9043836821616\n",
            "14   19041.09603565159  delta  1147.0745597729724\n",
            "15   20188.170595424563  delta  764.7163731819817\n",
            "16   20952.886968606545  delta  477.9477332387385\n",
            "17   21430.834701845284  delta  281.14572543455205\n",
            "18   21711.980427279836  delta  156.19206968586226\n",
            "19   21868.172496965697  delta  82.2063524662433\n",
            "20   21950.37884943194  delta  41.10317623312165\n",
            "21   21991.482025665064  delta  19.572941063391262\n",
            "22   22011.054966728454  delta  8.896791392450574\n",
            "23   22019.951758120904  delta  3.868170170630684\n",
            "24   22023.819928291534  delta  1.6117375710961184\n",
            "25   22025.43166586263  delta  0.6446950284384474\n",
            "26   22026.076360891067  delta  0.24795962632247975\n",
            "27   22026.32432051739  delta  0.09183689863795547\n",
            "28   22026.416157416028  delta  0.03279889237069838\n",
            "29   22026.4489563084  delta  0.011309962886447717\n",
            "30   22026.460266271286  delta  0.003769987628815906\n",
            "31   22026.464036258916  delta  0.001216125041553518\n",
            "32   22026.465252383958  delta  0.00038003907548547436\n",
            "33   22026.465632423035  delta  0.0001151633562077195\n",
            "34   22026.46574758639  delta  3.3871575355211616e-05\n",
            "35   22026.465781457966  delta  9.677592958631891e-06\n",
            "36   22026.465791135557  delta  2.6882202662866364e-06\n",
            "37   22026.465793823776  delta  7.265460179153071e-07\n",
            "38   22026.46579455032  delta  1.9119632050402818e-07\n",
            "39   22026.465794741518  delta  4.9024697565135436e-08\n",
            "math.exp(10) =  22026.465794806718\n"
          ],
          "name": "stdout"
        }
      ]
    },
    {
      "cell_type": "markdown",
      "metadata": {
        "id": "YVqTB3zV_bkN"
      },
      "source": [
        "$$ \\frac{e^x}{(n+1)!}x^{(n+1)} < \\frac{3^x}{(n+1)!}x^{(n+1)} <\\epsilon$$ "
      ]
    },
    {
      "cell_type": "code",
      "metadata": {
        "colab": {
          "base_uri": "https://localhost:8080/"
        },
        "id": "8qDp4Dup0byw",
        "outputId": "24c33f43-8f6b-48a0-9d4d-0d510854b374"
      },
      "source": [
        "import math\n",
        "\n",
        "x = 10\n",
        "epsilon = 10**(-16)\n",
        "\n",
        "for k in range(1000):\n",
        "  if (  ( (3**x * x**(k+1)) / math.factorial(k+1) ) < epsilon):\n",
        "    break\n",
        "print(k)\n",
        "\n",
        "e_to_x = 0\n",
        "for i in range(k+1):\n",
        "    print(i,' ',e_to_x, ' delta ', x**i/math.factorial(i))\n",
        "    e_to_x += x**i/math.factorial(i) \n",
        "    \n",
        "print('math.exp(10) = ',math.exp(10))\n"
      ],
      "execution_count": 5,
      "outputs": [
        {
          "output_type": "stream",
          "text": [
            "58\n",
            "0   0  delta  1.0\n",
            "1   1.0  delta  10.0\n",
            "2   11.0  delta  50.0\n",
            "3   61.0  delta  166.66666666666666\n",
            "4   227.66666666666666  delta  416.6666666666667\n",
            "5   644.3333333333334  delta  833.3333333333334\n",
            "6   1477.6666666666667  delta  1388.888888888889\n",
            "7   2866.5555555555557  delta  1984.126984126984\n",
            "8   4850.68253968254  delta  2480.15873015873\n",
            "9   7330.84126984127  delta  2755.731922398589\n",
            "10   10086.573192239859  delta  2755.731922398589\n",
            "11   12842.305114638448  delta  2505.210838544172\n",
            "12   15347.51595318262  delta  2087.67569878681\n",
            "13   17435.191651969428  delta  1605.9043836821616\n",
            "14   19041.09603565159  delta  1147.0745597729724\n",
            "15   20188.170595424563  delta  764.7163731819817\n",
            "16   20952.886968606545  delta  477.9477332387385\n",
            "17   21430.834701845284  delta  281.14572543455205\n",
            "18   21711.980427279836  delta  156.19206968586226\n",
            "19   21868.172496965697  delta  82.2063524662433\n",
            "20   21950.37884943194  delta  41.10317623312165\n",
            "21   21991.482025665064  delta  19.572941063391262\n",
            "22   22011.054966728454  delta  8.896791392450574\n",
            "23   22019.951758120904  delta  3.868170170630684\n",
            "24   22023.819928291534  delta  1.6117375710961184\n",
            "25   22025.43166586263  delta  0.6446950284384474\n",
            "26   22026.076360891067  delta  0.24795962632247975\n",
            "27   22026.32432051739  delta  0.09183689863795547\n",
            "28   22026.416157416028  delta  0.03279889237069838\n",
            "29   22026.4489563084  delta  0.011309962886447717\n",
            "30   22026.460266271286  delta  0.003769987628815906\n",
            "31   22026.464036258916  delta  0.001216125041553518\n",
            "32   22026.465252383958  delta  0.00038003907548547436\n",
            "33   22026.465632423035  delta  0.0001151633562077195\n",
            "34   22026.46574758639  delta  3.3871575355211616e-05\n",
            "35   22026.465781457966  delta  9.677592958631891e-06\n",
            "36   22026.465791135557  delta  2.6882202662866364e-06\n",
            "37   22026.465793823776  delta  7.265460179153071e-07\n",
            "38   22026.46579455032  delta  1.9119632050402818e-07\n",
            "39   22026.465794741518  delta  4.9024697565135436e-08\n",
            "40   22026.465794790543  delta  1.2256174391283859e-08\n",
            "41   22026.4657948028  delta  2.9893108271424046e-09\n",
            "42   22026.46579480579  delta  7.11740673129144e-10\n",
            "43   22026.465794806503  delta  1.6552108677421953e-10\n",
            "44   22026.465794806667  delta  3.761842881232262e-11\n",
            "45   22026.465794806703  delta  8.359650847182803e-12\n",
            "46   22026.46579480671  delta  1.817315401561479e-12\n",
            "47   22026.46579480671  delta  3.866628513960594e-13\n",
            "48   22026.46579480671  delta  8.055476070751238e-14\n",
            "49   22026.46579480671  delta  1.643974708316579e-14\n",
            "50   22026.46579480671  delta  3.287949416633158e-15\n",
            "51   22026.46579480671  delta  6.446959640457173e-16\n",
            "52   22026.46579480671  delta  1.2397999308571487e-16\n",
            "53   22026.46579480671  delta  2.3392451525606577e-17\n",
            "54   22026.46579480671  delta  4.331935467704922e-18\n",
            "55   22026.46579480671  delta  7.876246304918039e-19\n",
            "56   22026.46579480671  delta  1.4064725544496499e-19\n",
            "57   22026.46579480671  delta  2.4674957095607893e-20\n",
            "58   22026.46579480671  delta  4.2543029475186024e-21\n",
            "math.exp(10) =  22026.465794806718\n"
          ],
          "name": "stdout"
        }
      ]
    },
    {
      "cell_type": "code",
      "metadata": {
        "colab": {
          "base_uri": "https://localhost:8080/"
        },
        "id": "GDwGvapf0ir4",
        "outputId": "f16b0f77-e3a4-4895-ef8c-c5200a3df469"
      },
      "source": [
        "import math\n",
        "\n",
        "x = 10\n",
        "epsilon = 10**(-4)\n",
        "delta = 1\n",
        "e_to_x = 0\n",
        "i = 0\n",
        "while  epsilon <= delta:\n",
        "  delta = x**i/math.factorial(i) \n",
        "  e_to_x += delta\n",
        "  i = i+1\n",
        "print(i-1) \n",
        "print('e_to_x = ',e_to_x)    \n",
        "print('math.exp(10) = ',math.exp(10))"
      ],
      "execution_count": 6,
      "outputs": [
        {
          "output_type": "stream",
          "text": [
            "34\n",
            "e_to_x =  22026.465781457966\n",
            "math.exp(10) =  22026.465794806718\n"
          ],
          "name": "stdout"
        }
      ]
    },
    {
      "cell_type": "markdown",
      "metadata": {
        "id": "ik3BS5D40pYo"
      },
      "source": [
        "# *   **ln(x+1)**"
      ]
    },
    {
      "cell_type": "code",
      "metadata": {
        "colab": {
          "base_uri": "https://localhost:8080/"
        },
        "id": "knUF35O-Gh5d",
        "outputId": "d69c21af-dec5-4cde-ad4b-cd635ee8e0e2"
      },
      "source": [
        "import math\n",
        "\n",
        "x = 0.5\n",
        "ln_to_x_1 = x- (x)**2 / 2 + (x)**3/ 3 - (x)**4 / 4 + (x)**5 / 5\n",
        "print(ln_to_x_1)"
      ],
      "execution_count": 7,
      "outputs": [
        {
          "output_type": "stream",
          "text": [
            "0.40729166666666666\n"
          ],
          "name": "stdout"
        }
      ]
    },
    {
      "cell_type": "code",
      "metadata": {
        "colab": {
          "base_uri": "https://localhost:8080/"
        },
        "id": "gmKsf7JmGh5d",
        "outputId": "3f3c4d1b-5499-4ea7-f187-f9e6a5e064b2"
      },
      "source": [
        "print(math.log(0.5+1))"
      ],
      "execution_count": 8,
      "outputs": [
        {
          "output_type": "stream",
          "text": [
            "0.4054651081081644\n"
          ],
          "name": "stdout"
        }
      ]
    },
    {
      "cell_type": "code",
      "metadata": {
        "colab": {
          "base_uri": "https://localhost:8080/"
        },
        "id": "WDIL7XSKGh5d",
        "outputId": "0096f44f-e2c9-4ea5-90e0-fb9300c12448"
      },
      "source": [
        "import math\n",
        "\n",
        "x = 0.5\n",
        "ln_to_x_1 = 0\n",
        "for i in range(1,10):\n",
        "    coef = (-1)**(i-1)\n",
        "    num = (x)**(i)\n",
        "    denom = i\n",
        "    ln_to_x_1 += ( coef ) * ( (num)/(denom) )\n",
        "\n",
        "print(ln_to_x_1)"
      ],
      "execution_count": 10,
      "outputs": [
        {
          "output_type": "stream",
          "text": [
            "0.4055323040674603\n"
          ],
          "name": "stdout"
        }
      ]
    },
    {
      "cell_type": "markdown",
      "metadata": {
        "id": "ORi3WOfsdgYi"
      },
      "source": [
        "Taylor series for $f(x) = ln(x+1)$ about $c=0$ \n",
        "$$ E_n = \\frac{f^{(n+1)}(\\xi)}{(n+1)!}(x-c)^{(n+1)}  = \n",
        "\\frac{\\frac{(-1)^n(n)!}{(1+\\xi)^{(n+1)}}}{(n+1)!}x^{(n+1)}\\le\n",
        " \\frac{\\frac{(-1)^n(n)!}{(1+x)^{(n+1)}}}{(n+1)!}x^{(n+1)}\\text{ given that }$$\n",
        "\n",
        "If we want \n",
        "$E_n \\le \\epsilon$ then we need $n$ such that because $(-1)^n *(n)!*x^{-(n+1)} \\ge (-1)^n *(n)!*\\xi^{-(n+1)}$, for  $c=0 \\le \\xi \\le x$ \n",
        "\n",
        "$$  \\frac{\\frac{(-1)^n(n)!}{(1+x)^{(n+1)}}}{(n+1)!}x^{(n+1)} < \\epsilon$$ \n",
        "\n",
        "\n",
        "\n",
        "because $(-1)^n *(n)!*x^{-(n+1)} \\ge (-1)^n *(n)!*\\xi^{-(n+1)}$, for  $0 \\le \\xi \\le x$"
      ]
    },
    {
      "cell_type": "code",
      "metadata": {
        "colab": {
          "base_uri": "https://localhost:8080/"
        },
        "id": "B_3tJhNsGh5d",
        "outputId": "3609bb64-16cf-47a2-e538-121d8832199a"
      },
      "source": [
        "import math\n",
        "\n",
        "x = 0.5\n",
        "epsilon = 10**(-4)\n",
        "\n",
        "for k in range(1000):\n",
        "  if  (  (   (-1)**k * (math.factorial(k)) * x**(k+1) /((math.factorial(k+1)))  ) < epsilon):\n",
        "    break\n",
        "print(k)\n",
        "\n",
        "ln_to_x_1 = 0\n",
        "for i in range(1,k):\n",
        "    print(i,' ',ln_to_x_1, ' delta ',( (-1)**(i-1) ) * ( ((x)**(i))/(i) ) ) \n",
        "    ln_to_x_1 +=( (-1)**(i-1) ) * ( ((x)**(i))/(i) )\n",
        "    \n",
        "print('math.log(0.4+1) = ',math.log(1.5))"
      ],
      "execution_count": 24,
      "outputs": [
        {
          "output_type": "stream",
          "text": [
            "1\n",
            "math.log(0.4+1) =  0.4054651081081644\n"
          ],
          "name": "stdout"
        }
      ]
    },
    {
      "cell_type": "code",
      "metadata": {
        "colab": {
          "base_uri": "https://localhost:8080/"
        },
        "id": "S8TpiErWGh5d",
        "outputId": "f48399e8-ee2f-4df9-9929-c12281e3a17e"
      },
      "source": [
        "import math\n",
        "\n",
        "x = 0.5\n",
        "epsilon = 10**(-16)\n",
        "\n",
        "for k in range(1000):\n",
        "  if  (  (   (-1)**k * (math.factorial(k)) * x**(k+1) /((math.factorial(k+1)))  ) < epsilon):\n",
        "    break\n",
        "print(k)\n",
        "\n",
        "ln_to_x_1 = 0\n",
        "for i in range(1,k):\n",
        "    print(i,' ',ln_to_x_1, ' delta ',( (-1)**(i-1) ) * ( ((x)**(i))/(i) ) ) \n",
        "    ln_to_x_1 +=( (-1)**(i-1) ) * ( ((x)**(i))/(i) )\n",
        "    \n",
        "print('math.log(0.5+1) = ',math.log(1.5))"
      ],
      "execution_count": 34,
      "outputs": [
        {
          "output_type": "stream",
          "text": [
            "1\n",
            "math.log(0.5+1) =  0.4054651081081644\n"
          ],
          "name": "stdout"
        }
      ]
    },
    {
      "cell_type": "code",
      "metadata": {
        "colab": {
          "base_uri": "https://localhost:8080/"
        },
        "id": "fXpX3q4OGh5d",
        "outputId": "eba52407-fbe9-4e5a-a96b-ccb3faefae3c"
      },
      "source": [
        "import math\n",
        "\n",
        "x = 0.3\n",
        "epsilon = 10**(-4)\n",
        "delta = 1\n",
        "ln_to_x_1 = 0\n",
        "i = 1\n",
        "while  epsilon <= abs(delta):\n",
        "  delta = ( (-1)**(i-1) ) * ( ((x)**(i))/(i) )\n",
        "  ln_to_x_1 += delta\n",
        "  i = i+1\n",
        "\n",
        "print(i-1) \n",
        "print('ln_to_x_1 = ',ln_to_x_1)    \n",
        "print('math.log(x+1) = ',math.log(1.3))"
      ],
      "execution_count": 35,
      "outputs": [
        {
          "output_type": "stream",
          "text": [
            "7\n",
            "ln_to_x_1 =  0.26237074285714285\n",
            "math.log(x+1) =  0.26236426446749106\n"
          ],
          "name": "stdout"
        }
      ]
    },
    {
      "cell_type": "markdown",
      "metadata": {
        "id": "Ryfkyyu70zGm"
      },
      "source": [
        "# *   **Sen(x)**"
      ]
    },
    {
      "cell_type": "code",
      "metadata": {
        "colab": {
          "base_uri": "https://localhost:8080/"
        },
        "id": "W1sjX6t22Gcb",
        "outputId": "ad9b7b30-517d-439e-be72-e1f874c53314"
      },
      "source": [
        "import math\n",
        "\n",
        "x = math.radians(45)\n",
        "sin_to_x = x +(-1)*( x**3/math.factorial(3)) + x**5/math.factorial(5)\n",
        "+(-1)*( x**7/math.factorial(7))  + x**9/math.factorial(9)\n",
        "print(sin_to_x)"
      ],
      "execution_count": 36,
      "outputs": [
        {
          "output_type": "stream",
          "text": [
            "0.7071430457793603\n"
          ],
          "name": "stdout"
        }
      ]
    },
    {
      "cell_type": "code",
      "metadata": {
        "colab": {
          "base_uri": "https://localhost:8080/"
        },
        "id": "A6EUbZkr2Gcc",
        "outputId": "944f15ef-0d6e-4d55-d623-eda3ecd7ed11"
      },
      "source": [
        "print(math.sin(math.radians(45)))"
      ],
      "execution_count": 37,
      "outputs": [
        {
          "output_type": "stream",
          "text": [
            "0.7071067811865475\n"
          ],
          "name": "stdout"
        }
      ]
    },
    {
      "cell_type": "code",
      "metadata": {
        "colab": {
          "base_uri": "https://localhost:8080/"
        },
        "id": "-P3rNn_p2Gcc",
        "outputId": "b255f2b0-067c-43bd-e972-dabcd39a9178"
      },
      "source": [
        "import math\n",
        "\n",
        "x = math.radians(45)\n",
        "sin_to_x = 0\n",
        "for i in range(10):\n",
        "    sin_to_x += ((-1)**i)*(x**((2*i)+1)/math.factorial((2*i)+1)) \n",
        "print(sin_to_x)"
      ],
      "execution_count": 38,
      "outputs": [
        {
          "output_type": "stream",
          "text": [
            "0.7071067811865475\n"
          ],
          "name": "stdout"
        }
      ]
    },
    {
      "cell_type": "markdown",
      "metadata": {
        "id": "M_ezpQnm2Gcc"
      },
      "source": [
        "Taylor series for $f(x) = sin(x)$ about $c=0$ (Maclaurin) \n",
        "$$ E_n = \\frac{f^{(n+1)}(\\xi)}{(n+1)!}(x-c)^{(n+1)}  = \n",
        "\\frac{sin(\\xi) \\text{ o } cos(\\xi)}{(n+1)!}x^{(n+1)} \\le\n",
        " \\frac{1}{(n+1)!} x^{(n+1)}\\text{ given that }$$\n",
        "\n",
        "If we want \n",
        "$E_n \\le \\epsilon$ then we need $n$ such that because $1 \\ge sin(\\xi) \\text{ o } cos(\\xi)$, for  $c=0 \\le \\xi \\le x$ \n",
        "\n",
        "$$ \\frac{1}{(n+1)!}x^{(n+1)} < \\epsilon$$ because $1\\ge sin(\\xi) \\text{ o } cos(\\xi)$, for  $0 \\le \\xi \\le x$"
      ]
    },
    {
      "cell_type": "code",
      "metadata": {
        "colab": {
          "base_uri": "https://localhost:8080/"
        },
        "id": "E5RD7Shk2Gcc",
        "outputId": "c3e5ef1f-6268-464d-dba4-73248969ea7b"
      },
      "source": [
        "import math\n",
        "\n",
        "x = math.radians(45)\n",
        "epsilon = 10**(-4)\n",
        "\n",
        "for k in range(1000):\n",
        "  if ( (     x**(k+1) / math.factorial(k+1)  ) < epsilon):\n",
        "    break\n",
        "print(k)\n",
        "\n",
        "sin_to_x = 0\n",
        "for i in range(k):\n",
        "    print(i,' ',sin_to_x, ' delta ', ((-1)**i)*(x**((2*i)+1)/math.factorial((2*i)+1))) \n",
        "    sin_to_x +=((-1)**i)*(x**((2*i)+1)/math.factorial((2*i)+1)) \n",
        "    \n",
        "print('math.sin(45) = ',math.sin(math.radians(45)))"
      ],
      "execution_count": 39,
      "outputs": [
        {
          "output_type": "stream",
          "text": [
            "6\n",
            "0   0  delta  0.7853981633974483\n",
            "1   0.7853981633974483  delta  -0.08074551218828077\n",
            "2   0.7046526512091675  delta  0.00249039457019272\n",
            "3   0.7071430457793603  delta  -3.657620418217724e-05\n",
            "4   0.7071064695751781  delta  3.13361689037812e-07\n",
            "5   0.7071067829368671  delta  -1.7572476734434003e-09\n",
            "math.sin(45) =  0.7071067811865475\n"
          ],
          "name": "stdout"
        }
      ]
    },
    {
      "cell_type": "code",
      "metadata": {
        "colab": {
          "base_uri": "https://localhost:8080/"
        },
        "id": "oCCnsgwK2Gcc",
        "outputId": "a465d7e3-d3c7-476e-e89e-e1559179636c"
      },
      "source": [
        "import math\n",
        "\n",
        "x = math.radians(45)\n",
        "epsilon = 10**(-16)\n",
        "\n",
        "for k in range(1000):\n",
        "  if (  ( x**(k+1) / math.factorial(k+1)  ) < epsilon):\n",
        "    break\n",
        "print(k)\n",
        "\n",
        "sin_to_x = 0\n",
        "for i in range(k+1):\n",
        "    print(i,' ',sin_to_x, ' delta ', ((-1)**i)*(x**((2*i)+1)/math.factorial((2*i)+1))) \n",
        "    sin_to_x +=((-1)**i)*(x**((2*i)+1)/math.factorial((2*i)+1)) \n",
        "    \n",
        "print('math.sin(45) = ',math.sin(math.radians(45)))"
      ],
      "execution_count": 40,
      "outputs": [
        {
          "output_type": "stream",
          "text": [
            "16\n",
            "0   0  delta  0.7853981633974483\n",
            "1   0.7853981633974483  delta  -0.08074551218828077\n",
            "2   0.7046526512091675  delta  0.00249039457019272\n",
            "3   0.7071430457793603  delta  -3.657620418217724e-05\n",
            "4   0.7071064695751781  delta  3.13361689037812e-07\n",
            "5   0.7071067829368671  delta  -1.7572476734434003e-09\n",
            "6   0.7071067811796194  delta  6.948453273886626e-12\n",
            "7   0.7071067811865679  delta  -2.041026339664143e-14\n",
            "8   0.7071067811865475  delta  4.6287046288346804e-17\n",
            "9   0.7071067811865475  delta  -8.348589834811667e-20\n",
            "10   0.7071067811865475  delta  1.2261499847700463e-22\n",
            "11   0.7071067811865475  delta  -1.494764733952828e-25\n",
            "12   0.7071067811865475  delta  1.5367433955014577e-28\n",
            "13   0.7071067811865475  delta  -1.3503427154189985e-31\n",
            "14   0.7071067811865475  delta  1.0258119155694505e-34\n",
            "15   0.7071067811865475  delta  -6.804003895560589e-38\n",
            "16   0.7071067811865475  delta  3.974480752406127e-41\n",
            "math.sin(45) =  0.7071067811865475\n"
          ],
          "name": "stdout"
        }
      ]
    },
    {
      "cell_type": "code",
      "metadata": {
        "colab": {
          "base_uri": "https://localhost:8080/"
        },
        "id": "EVTnCrfs2Gcc",
        "outputId": "0c90ef3c-1163-4fdd-aaa1-db826a95683b"
      },
      "source": [
        "import math\n",
        "\n",
        "x =  math.radians(45)\n",
        "epsilon = 10**(-4)\n",
        "delta = 1\n",
        "sin_to_x = 0\n",
        "i = 0\n",
        "while  abs(epsilon) <= abs(delta):\n",
        "  delta = ((-1)**i)* (x**((2*i)+1)/math.factorial((2*i)+1)) \n",
        "  sin_to_x += delta\n",
        "  i = i+1\n",
        "\n",
        "print(i-1) \n",
        "print('sin_to_x = ',sin_to_x)    \n",
        "print('math.sin(x) = ',math.sin(x))"
      ],
      "execution_count": 41,
      "outputs": [
        {
          "output_type": "stream",
          "text": [
            "3\n",
            "sin_to_x =  0.7071064695751781\n",
            "math.sin(x) =  0.7071067811865475\n"
          ],
          "name": "stdout"
        }
      ]
    }
  ]
}