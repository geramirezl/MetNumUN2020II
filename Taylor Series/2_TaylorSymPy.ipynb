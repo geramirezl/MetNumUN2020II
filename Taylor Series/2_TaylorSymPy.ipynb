{
  "nbformat": 4,
  "nbformat_minor": 0,
  "metadata": {
    "colab": {
      "name": "2_TaylorSymPy",
      "provenance": []
    },
    "kernelspec": {
      "name": "python3",
      "display_name": "Python 3"
    }
  },
  "cells": [
    {
      "cell_type": "markdown",
      "metadata": {
        "id": "1jS0T_h6zhH1"
      },
      "source": [
        "## 2. Reproduce TaylorSymPy.ipynb (based on Taylor Series Expansion with Python from Data Science Fabric) for the functions in the Taylor Series figure above."
      ]
    },
    {
      "cell_type": "markdown",
      "metadata": {
        "id": "BpnhZPiIzOic"
      },
      "source": [
        "# *   **$e^x$**"
      ]
    },
    {
      "cell_type": "code",
      "metadata": {
        "colab": {
          "base_uri": "https://localhost:8080/"
        },
        "id": "5rV1PSlCzgfG",
        "outputId": "a363cf9e-c4f5-4e0c-ae77-bb18ba77070f"
      },
      "source": [
        "import math\n",
        "\n",
        "x = 2\n",
        "e_to_2 = x**0/math.factorial(0) + x**1/math.factorial(1) + x**2/math.factorial(2) + x**3/math.factorial(3) + x**4/math.factorial(4)\n",
        "print(e_to_2)"
      ],
      "execution_count": 1,
      "outputs": [
        {
          "output_type": "stream",
          "text": [
            "7.0\n"
          ],
          "name": "stdout"
        }
      ]
    },
    {
      "cell_type": "code",
      "metadata": {
        "colab": {
          "base_uri": "https://localhost:8080/"
        },
        "id": "Z6LeaZy5zxOV",
        "outputId": "c190395d-54a3-41c1-bab6-de58a1d5535d"
      },
      "source": [
        "print(math.exp(2))"
      ],
      "execution_count": 2,
      "outputs": [
        {
          "output_type": "stream",
          "text": [
            "7.38905609893065\n"
          ],
          "name": "stdout"
        }
      ]
    },
    {
      "cell_type": "code",
      "metadata": {
        "colab": {
          "base_uri": "https://localhost:8080/"
        },
        "id": "NUIl9fjpz049",
        "outputId": "a7061824-228d-49c2-f20c-de6b6700fe7a"
      },
      "source": [
        "import math\n",
        "\n",
        "x = 2\n",
        "e_to_2 = 0\n",
        "for i in range(10):\n",
        "    e_to_2 += x**i/math.factorial(i) \n",
        "print(e_to_2)"
      ],
      "execution_count": 3,
      "outputs": [
        {
          "output_type": "stream",
          "text": [
            "7.3887125220458545\n"
          ],
          "name": "stdout"
        }
      ]
    },
    {
      "cell_type": "markdown",
      "metadata": {
        "id": "R1DKZ_YF0Fj2"
      },
      "source": [
        "Taylor series for $f(x) = e^x$ about $c=0$ (Maclaurin) \n",
        "$$ E_n = \\frac{f^{(n+1)}(\\xi)}{(n+1)!}(x-c)^{(n+1)}  = \\frac{e^\\xi}{(n+1)!}x^{(n+1)} \\le \\frac{e^x}{(n+1)!} x^{(n+1)}\\text{ given that }$$\n",
        "\n",
        "If we want $E_n \\le \\epsilon$ then we need $n$ such that because $e^x \\ge e^\\xi$, for  $c=0 \\le \\xi \\le x$ \n",
        "\n",
        "$$ \\frac{e^x}{(n+1)!}x^{(n+1)} < \\epsilon$$ because $e^x \\ge e^\\xi$, for  $0 \\le \\xi \\le x$"
      ]
    },
    {
      "cell_type": "code",
      "metadata": {
        "colab": {
          "base_uri": "https://localhost:8080/"
        },
        "id": "R1OTmQzG0dHo",
        "outputId": "d5b1120d-81b0-4b09-8c69-ae7e51266672"
      },
      "source": [
        "import math\n",
        "\n",
        "x = 10\n",
        "epsilon = 10**(-4)\n",
        "\n",
        "for k in range(1000):\n",
        "  if (  ( (math.exp(x) * x**(k+1)) / math.factorial(k+1) ) < epsilon):\n",
        "    break\n",
        "print(k)\n",
        "\n",
        "e_to_x = 0\n",
        "for i in range(k):\n",
        "    print(i,' ',e_to_x, ' delta ', x**i/math.factorial(i))\n",
        "    e_to_x += x**i/math.factorial(i) \n",
        "    \n",
        "print('math.exp(10) = ',math.exp(10))"
      ],
      "execution_count": 4,
      "outputs": [
        {
          "output_type": "stream",
          "text": [
            "40\n",
            "0   0  delta  1.0\n",
            "1   1.0  delta  10.0\n",
            "2   11.0  delta  50.0\n",
            "3   61.0  delta  166.66666666666666\n",
            "4   227.66666666666666  delta  416.6666666666667\n",
            "5   644.3333333333334  delta  833.3333333333334\n",
            "6   1477.6666666666667  delta  1388.888888888889\n",
            "7   2866.5555555555557  delta  1984.126984126984\n",
            "8   4850.68253968254  delta  2480.15873015873\n",
            "9   7330.84126984127  delta  2755.731922398589\n",
            "10   10086.573192239859  delta  2755.731922398589\n",
            "11   12842.305114638448  delta  2505.210838544172\n",
            "12   15347.51595318262  delta  2087.67569878681\n",
            "13   17435.191651969428  delta  1605.9043836821616\n",
            "14   19041.09603565159  delta  1147.0745597729724\n",
            "15   20188.170595424563  delta  764.7163731819817\n",
            "16   20952.886968606545  delta  477.9477332387385\n",
            "17   21430.834701845284  delta  281.14572543455205\n",
            "18   21711.980427279836  delta  156.19206968586226\n",
            "19   21868.172496965697  delta  82.2063524662433\n",
            "20   21950.37884943194  delta  41.10317623312165\n",
            "21   21991.482025665064  delta  19.572941063391262\n",
            "22   22011.054966728454  delta  8.896791392450574\n",
            "23   22019.951758120904  delta  3.868170170630684\n",
            "24   22023.819928291534  delta  1.6117375710961184\n",
            "25   22025.43166586263  delta  0.6446950284384474\n",
            "26   22026.076360891067  delta  0.24795962632247975\n",
            "27   22026.32432051739  delta  0.09183689863795547\n",
            "28   22026.416157416028  delta  0.03279889237069838\n",
            "29   22026.4489563084  delta  0.011309962886447717\n",
            "30   22026.460266271286  delta  0.003769987628815906\n",
            "31   22026.464036258916  delta  0.001216125041553518\n",
            "32   22026.465252383958  delta  0.00038003907548547436\n",
            "33   22026.465632423035  delta  0.0001151633562077195\n",
            "34   22026.46574758639  delta  3.3871575355211616e-05\n",
            "35   22026.465781457966  delta  9.677592958631891e-06\n",
            "36   22026.465791135557  delta  2.6882202662866364e-06\n",
            "37   22026.465793823776  delta  7.265460179153071e-07\n",
            "38   22026.46579455032  delta  1.9119632050402818e-07\n",
            "39   22026.465794741518  delta  4.9024697565135436e-08\n",
            "math.exp(10) =  22026.465794806718\n"
          ],
          "name": "stdout"
        }
      ]
    },
    {
      "cell_type": "markdown",
      "metadata": {
        "id": "YVqTB3zV_bkN"
      },
      "source": [
        "$$ \\frac{e^x}{(n+1)!}x^{(n+1)} < \\frac{3^x}{(n+1)!}x^{(n+1)} <\\epsilon$$ "
      ]
    },
    {
      "cell_type": "code",
      "metadata": {
        "colab": {
          "base_uri": "https://localhost:8080/"
        },
        "id": "ex4SIgwK0h2o",
        "outputId": "efeac290-8617-414d-d173-265bff3416a5"
      },
      "source": [
        "import math\n",
        "\n",
        "x = 10\n",
        "epsilon = 10**(-16)\n",
        "\n",
        "for k in range(1000):\n",
        "  if (  ( (3**x * x**(k+1)) / math.factorial(k+1) ) < epsilon):\n",
        "    break\n",
        "print(k)\n",
        "\n",
        "e_to_x = 0\n",
        "for i in range(k+1):\n",
        "    print(i,' ',e_to_x, ' delta ', x**i/math.factorial(i))\n",
        "    e_to_x += x**i/math.factorial(i) \n",
        "    \n",
        "print('math.exp(10) = ',math.exp(10))"
      ],
      "execution_count": 5,
      "outputs": [
        {
          "output_type": "stream",
          "text": [
            "58\n",
            "0   0  delta  1.0\n",
            "1   1.0  delta  10.0\n",
            "2   11.0  delta  50.0\n",
            "3   61.0  delta  166.66666666666666\n",
            "4   227.66666666666666  delta  416.6666666666667\n",
            "5   644.3333333333334  delta  833.3333333333334\n",
            "6   1477.6666666666667  delta  1388.888888888889\n",
            "7   2866.5555555555557  delta  1984.126984126984\n",
            "8   4850.68253968254  delta  2480.15873015873\n",
            "9   7330.84126984127  delta  2755.731922398589\n",
            "10   10086.573192239859  delta  2755.731922398589\n",
            "11   12842.305114638448  delta  2505.210838544172\n",
            "12   15347.51595318262  delta  2087.67569878681\n",
            "13   17435.191651969428  delta  1605.9043836821616\n",
            "14   19041.09603565159  delta  1147.0745597729724\n",
            "15   20188.170595424563  delta  764.7163731819817\n",
            "16   20952.886968606545  delta  477.9477332387385\n",
            "17   21430.834701845284  delta  281.14572543455205\n",
            "18   21711.980427279836  delta  156.19206968586226\n",
            "19   21868.172496965697  delta  82.2063524662433\n",
            "20   21950.37884943194  delta  41.10317623312165\n",
            "21   21991.482025665064  delta  19.572941063391262\n",
            "22   22011.054966728454  delta  8.896791392450574\n",
            "23   22019.951758120904  delta  3.868170170630684\n",
            "24   22023.819928291534  delta  1.6117375710961184\n",
            "25   22025.43166586263  delta  0.6446950284384474\n",
            "26   22026.076360891067  delta  0.24795962632247975\n",
            "27   22026.32432051739  delta  0.09183689863795547\n",
            "28   22026.416157416028  delta  0.03279889237069838\n",
            "29   22026.4489563084  delta  0.011309962886447717\n",
            "30   22026.460266271286  delta  0.003769987628815906\n",
            "31   22026.464036258916  delta  0.001216125041553518\n",
            "32   22026.465252383958  delta  0.00038003907548547436\n",
            "33   22026.465632423035  delta  0.0001151633562077195\n",
            "34   22026.46574758639  delta  3.3871575355211616e-05\n",
            "35   22026.465781457966  delta  9.677592958631891e-06\n",
            "36   22026.465791135557  delta  2.6882202662866364e-06\n",
            "37   22026.465793823776  delta  7.265460179153071e-07\n",
            "38   22026.46579455032  delta  1.9119632050402818e-07\n",
            "39   22026.465794741518  delta  4.9024697565135436e-08\n",
            "40   22026.465794790543  delta  1.2256174391283859e-08\n",
            "41   22026.4657948028  delta  2.9893108271424046e-09\n",
            "42   22026.46579480579  delta  7.11740673129144e-10\n",
            "43   22026.465794806503  delta  1.6552108677421953e-10\n",
            "44   22026.465794806667  delta  3.761842881232262e-11\n",
            "45   22026.465794806703  delta  8.359650847182803e-12\n",
            "46   22026.46579480671  delta  1.817315401561479e-12\n",
            "47   22026.46579480671  delta  3.866628513960594e-13\n",
            "48   22026.46579480671  delta  8.055476070751238e-14\n",
            "49   22026.46579480671  delta  1.643974708316579e-14\n",
            "50   22026.46579480671  delta  3.287949416633158e-15\n",
            "51   22026.46579480671  delta  6.446959640457173e-16\n",
            "52   22026.46579480671  delta  1.2397999308571487e-16\n",
            "53   22026.46579480671  delta  2.3392451525606577e-17\n",
            "54   22026.46579480671  delta  4.331935467704922e-18\n",
            "55   22026.46579480671  delta  7.876246304918039e-19\n",
            "56   22026.46579480671  delta  1.4064725544496499e-19\n",
            "57   22026.46579480671  delta  2.4674957095607893e-20\n",
            "58   22026.46579480671  delta  4.2543029475186024e-21\n",
            "math.exp(10) =  22026.465794806718\n"
          ],
          "name": "stdout"
        }
      ]
    },
    {
      "cell_type": "code",
      "metadata": {
        "colab": {
          "base_uri": "https://localhost:8080/"
        },
        "id": "yRlt02a60lt4",
        "outputId": "712424ae-3ea9-4eec-8777-7e04195928c1"
      },
      "source": [
        "import math\n",
        "\n",
        "x = 10\n",
        "epsilon = 10**(-4)\n",
        "delta = 1\n",
        "e_to_x = 0\n",
        "i = 0\n",
        "while  epsilon <= delta:\n",
        "  delta = x**i/math.factorial(i) \n",
        "  e_to_x += delta\n",
        "  i = i+1\n",
        "print(i-1) \n",
        "print('e_to_x = ',e_to_x)    \n",
        "print('math.exp(10) = ',math.exp(10))"
      ],
      "execution_count": 6,
      "outputs": [
        {
          "output_type": "stream",
          "text": [
            "34\n",
            "e_to_x =  22026.465781457966\n",
            "math.exp(10) =  22026.465794806718\n"
          ],
          "name": "stdout"
        }
      ]
    },
    {
      "cell_type": "markdown",
      "metadata": {
        "id": "Ryfkyyu70zGm"
      },
      "source": [
        "# *   **Sen(x)**"
      ]
    },
    {
      "cell_type": "code",
      "metadata": {
        "colab": {
          "base_uri": "https://localhost:8080/"
        },
        "id": "W1sjX6t22Gcb",
        "outputId": "a7d1d9e3-4a9e-4b4a-febd-59af1c270949"
      },
      "source": [
        "import math\n",
        "\n",
        "x = math.radians(45)\n",
        "sin_to_x = x +(-1)*( x**3/math.factorial(3)) + x**5/math.factorial(5)\n",
        "+(-1)*( x**7/math.factorial(7))  + x**9/math.factorial(9)\n",
        "print(sin_to_x)"
      ],
      "execution_count": 22,
      "outputs": [
        {
          "output_type": "stream",
          "text": [
            "0.7071430457793603\n"
          ],
          "name": "stdout"
        }
      ]
    },
    {
      "cell_type": "code",
      "metadata": {
        "colab": {
          "base_uri": "https://localhost:8080/"
        },
        "id": "A6EUbZkr2Gcc",
        "outputId": "a5fdfb36-f0bb-43d8-d7a7-9cc762e096e9"
      },
      "source": [
        "print(math.sin(math.radians(45)))"
      ],
      "execution_count": 19,
      "outputs": [
        {
          "output_type": "stream",
          "text": [
            "0.7071067811865475\n"
          ],
          "name": "stdout"
        }
      ]
    },
    {
      "cell_type": "code",
      "metadata": {
        "colab": {
          "base_uri": "https://localhost:8080/"
        },
        "id": "-P3rNn_p2Gcc",
        "outputId": "8cfd4869-258f-433c-fff1-3fc9c8086766"
      },
      "source": [
        "import math\n",
        "\n",
        "x = math.radians(45)\n",
        "sin_to_x = 0\n",
        "for i in range(10):\n",
        "    sin_to_x += ((-1)**i)*(x**((2*i)+1)/math.factorial((2*i)+1)) \n",
        "print(sin_to_x)"
      ],
      "execution_count": 23,
      "outputs": [
        {
          "output_type": "stream",
          "text": [
            "0.7071067811865475\n"
          ],
          "name": "stdout"
        }
      ]
    },
    {
      "cell_type": "markdown",
      "metadata": {
        "id": "M_ezpQnm2Gcc"
      },
      "source": [
        "Taylor series for $f(x) = sin(x)$ about $c=0$ (Maclaurin) \n",
        "$$ E_n = \\frac{f^{(n+1)}(\\xi)}{(n+1)!}(x-c)^{(n+1)}  = \n",
        "\\frac{sin(\\xi) \\text{ o } cos(\\xi)}{(n+1)!}x^{(n+1)} \\le\n",
        " \\frac{1}{(n+1)!} x^{(n+1)}\\text{ given that }$$\n",
        "\n",
        "If we want \n",
        "$E_n \\le \\epsilon$ then we need $n$ such that because $1 \\ge sin(\\xi) \\text{ o } cos(\\xi)$, for  $c=0 \\le \\xi \\le x$ \n",
        "\n",
        "$$ \\frac{1}{(n+1)!}x^{(n+1)} < \\epsilon$$ because $1\\ge sin(\\xi) \\text{ o } cos(\\xi)$, for  $0 \\le \\xi \\le x$"
      ]
    },
    {
      "cell_type": "code",
      "metadata": {
        "colab": {
          "base_uri": "https://localhost:8080/"
        },
        "id": "E5RD7Shk2Gcc",
        "outputId": "33c44ab1-5437-4a5e-c727-c5e6efcc9e1a"
      },
      "source": [
        "import math\n",
        "\n",
        "x = math.radians(45)\n",
        "epsilon = 10**(-4)\n",
        "\n",
        "for k in range(1000):\n",
        "  if ( (     x**(k+1) / math.factorial(k+1)  ) < epsilon):\n",
        "    break\n",
        "print(k)\n",
        "\n",
        "sin_to_x = 0\n",
        "for i in range(k):\n",
        "    print(i,' ',sin_to_x, ' delta ', ((-1)**i)*(x**((2*i)+1)/math.factorial((2*i)+1))) \n",
        "    sin_to_x +=((-1)**i)*(x**((2*i)+1)/math.factorial((2*i)+1)) \n",
        "    \n",
        "print('math.sin(45) = ',math.sin(math.radians(45)))"
      ],
      "execution_count": 41,
      "outputs": [
        {
          "output_type": "stream",
          "text": [
            "6\n",
            "0   0  delta  0.7853981633974483\n",
            "1   0.7853981633974483  delta  -0.08074551218828077\n",
            "2   0.7046526512091675  delta  0.00249039457019272\n",
            "3   0.7071430457793603  delta  -3.657620418217724e-05\n",
            "4   0.7071064695751781  delta  3.13361689037812e-07\n",
            "5   0.7071067829368671  delta  -1.7572476734434003e-09\n",
            "math.sin(45) =  0.7071067811865475\n"
          ],
          "name": "stdout"
        }
      ]
    },
    {
      "cell_type": "code",
      "metadata": {
        "colab": {
          "base_uri": "https://localhost:8080/"
        },
        "id": "oCCnsgwK2Gcc",
        "outputId": "9b9e9c51-eb8c-4f14-a090-45dccb15bb73"
      },
      "source": [
        "import math\n",
        "\n",
        "x = math.radians(45)\n",
        "epsilon = 10**(-16)\n",
        "\n",
        "for k in range(1000):\n",
        "  if (  ( x**(k+1) / math.factorial(k+1)  ) < epsilon):\n",
        "    break\n",
        "print(k)\n",
        "\n",
        "sin_to_x = 0\n",
        "for i in range(k+1):\n",
        "    print(i,' ',sin_to_x, ' delta ', ((-1)**i)*(x**((2*i)+1)/math.factorial((2*i)+1))) \n",
        "    sin_to_x +=((-1)**i)*(x**((2*i)+1)/math.factorial((2*i)+1)) \n",
        "    \n",
        "print('math.sin(45) = ',math.sin(math.radians(45)))"
      ],
      "execution_count": 42,
      "outputs": [
        {
          "output_type": "stream",
          "text": [
            "16\n",
            "0   0  delta  0.7853981633974483\n",
            "1   0.7853981633974483  delta  -0.08074551218828077\n",
            "2   0.7046526512091675  delta  0.00249039457019272\n",
            "3   0.7071430457793603  delta  -3.657620418217724e-05\n",
            "4   0.7071064695751781  delta  3.13361689037812e-07\n",
            "5   0.7071067829368671  delta  -1.7572476734434003e-09\n",
            "6   0.7071067811796194  delta  6.948453273886626e-12\n",
            "7   0.7071067811865679  delta  -2.041026339664143e-14\n",
            "8   0.7071067811865475  delta  4.6287046288346804e-17\n",
            "9   0.7071067811865475  delta  -8.348589834811667e-20\n",
            "10   0.7071067811865475  delta  1.2261499847700463e-22\n",
            "11   0.7071067811865475  delta  -1.494764733952828e-25\n",
            "12   0.7071067811865475  delta  1.5367433955014577e-28\n",
            "13   0.7071067811865475  delta  -1.3503427154189985e-31\n",
            "14   0.7071067811865475  delta  1.0258119155694505e-34\n",
            "15   0.7071067811865475  delta  -6.804003895560589e-38\n",
            "16   0.7071067811865475  delta  3.974480752406127e-41\n",
            "math.sin(45) =  0.7071067811865475\n"
          ],
          "name": "stdout"
        }
      ]
    },
    {
      "cell_type": "code",
      "metadata": {
        "colab": {
          "base_uri": "https://localhost:8080/"
        },
        "id": "EVTnCrfs2Gcc",
        "outputId": "32ee250e-fec7-4433-d6a0-3704776ca29d"
      },
      "source": [
        "import math\n",
        "\n",
        "x =  math.radians(45)\n",
        "epsilon = 10**(-4)\n",
        "delta = 1\n",
        "sin_to_x = 0\n",
        "i = 0\n",
        "while  abs(epsilon) <= abs(delta):\n",
        "  delta = ((-1)**i)* (x**((2*i)+1)/math.factorial((2*i)+1)) \n",
        "  sin_to_x += delta\n",
        "  i = i+1\n",
        "\n",
        "print(i-1) \n",
        "print('sin_to_x = ',sin_to_x)    \n",
        "print('math.sin(x) = ',math.sin(x))"
      ],
      "execution_count": 53,
      "outputs": [
        {
          "output_type": "stream",
          "text": [
            "3\n",
            "sin_to_x =  0.7071064695751781\n",
            "math.sin(x) =  0.7071067811865475\n"
          ],
          "name": "stdout"
        }
      ]
    },
    {
      "cell_type": "markdown",
      "metadata": {
        "id": "KT0knml90zPu"
      },
      "source": [
        "# *   **Cos(x)**"
      ]
    },
    {
      "cell_type": "code",
      "metadata": {
        "colab": {
          "base_uri": "https://localhost:8080/"
        },
        "id": "crY7fODHBCLG",
        "outputId": "f8fa9bf6-0f48-438a-bf49-f5673f23b66b"
      },
      "source": [
        "import math\n",
        "\n",
        "x = math.radians(30)\n",
        "cos_to_x = 1 - x**2/math.factorial(2) + x**4/math.factorial(4)\n",
        "- x**6/math.factorial(6) + x**8/math.factorial(8)\n",
        "print(cos_to_x)"
      ],
      "execution_count": 57,
      "outputs": [
        {
          "output_type": "stream",
          "text": [
            "0.8660538834157472\n"
          ],
          "name": "stdout"
        }
      ]
    },
    {
      "cell_type": "code",
      "metadata": {
        "colab": {
          "base_uri": "https://localhost:8080/"
        },
        "id": "HYDiy80uBCLH",
        "outputId": "75d8dc5b-3ce2-4f24-f331-ca309dfb2965"
      },
      "source": [
        "print(math.cos(math.radians(30)))"
      ],
      "execution_count": 58,
      "outputs": [
        {
          "output_type": "stream",
          "text": [
            "0.8660254037844387\n"
          ],
          "name": "stdout"
        }
      ]
    },
    {
      "cell_type": "code",
      "metadata": {
        "colab": {
          "base_uri": "https://localhost:8080/"
        },
        "id": "QZM3D3OVBCLH",
        "outputId": "5bbae8be-97c5-4fd6-8198-e077f1bcf17b"
      },
      "source": [
        "import math\n",
        "\n",
        "x = math.radians(30)\n",
        "cos_to_x = 0\n",
        "for i in range(10):\n",
        "    cos_to_x += ((-1)**i)*(x**(2*i)/math.factorial(2*i)) \n",
        "print(cos_to_x)"
      ],
      "execution_count": 59,
      "outputs": [
        {
          "output_type": "stream",
          "text": [
            "0.8660254037844386\n"
          ],
          "name": "stdout"
        }
      ]
    },
    {
      "cell_type": "markdown",
      "metadata": {
        "id": "YMIm49h1NdSk"
      },
      "source": [
        "Taylor series for $f(x) = cos(x)$ about $c=0$ (Maclaurin) \n",
        "$$ E_n = \\frac{f^{(n+1)}(\\xi)}{(n+1)!}(x-c)^{(n+1)}  = \n",
        "\\frac{sin(\\xi) \\text{ o } cos(\\xi)}{(n+1)!}x^{(n+1)} \\le\n",
        " \\frac{1}{(n+1)!} x^{(n+1)}\\text{ given that }$$\n",
        "\n",
        "If we want \n",
        "$E_n \\le \\epsilon$ then we need $n$ such that because $1 \\ge sin(\\xi) \\text{ o } cos(\\xi)$, for  $c=0 \\le \\xi \\le x$ \n",
        "\n",
        "$$ \\frac{1}{(n+1)!}x^{(n+1)} < \\epsilon$$ because $1\\ge sin(\\xi) \\text{ o } cos(\\xi)$, for  $0 \\le \\xi \\le x$"
      ]
    },
    {
      "cell_type": "code",
      "metadata": {
        "colab": {
          "base_uri": "https://localhost:8080/"
        },
        "id": "ZdTou-hpBCLH",
        "outputId": "f127a9ce-bd3f-4226-9538-a214381dfdd8"
      },
      "source": [
        "import math\n",
        "\n",
        "x = math.radians(30)\n",
        "epsilon = 10**(-4)\n",
        "\n",
        "for k in range(1000):\n",
        "  if ( (     x**(k+1) / math.factorial(k+1)  ) < epsilon):\n",
        "    break\n",
        "print(k)\n",
        "\n",
        "cos_to_x = 0\n",
        "for i in range(k):\n",
        "    print(i,' ',cos_to_x, ' delta ',((-1)**i)*(x**(2*i)/math.factorial(2*i))  ) \n",
        "    cos_to_x +=((-1)**i)*(x**(2*i)/math.factorial(2*i)) \n",
        "    \n",
        "print('math.cos(30) = ',math.cos(math.radians(30)))"
      ],
      "execution_count": 62,
      "outputs": [
        {
          "output_type": "stream",
          "text": [
            "5\n",
            "0   0  delta  1.0\n",
            "1   1.0  delta  -0.13707783890401884\n",
            "2   0.8629221610959812  delta  0.003131722319766023\n",
            "3   0.8660538834157472  delta  -2.861931517606714e-05\n",
            "4   0.8660252641005711  delta  1.401097812588669e-07\n",
            "math.cos(30) =  0.8660254037844387\n"
          ],
          "name": "stdout"
        }
      ]
    },
    {
      "cell_type": "code",
      "metadata": {
        "colab": {
          "base_uri": "https://localhost:8080/"
        },
        "id": "Fn12i3ePBCLH",
        "outputId": "3f7020e4-4d71-4bf4-9273-4341b1ae250a"
      },
      "source": [
        "import math\n",
        "\n",
        "x = math.radians(30)\n",
        "epsilon = 10**(-16)\n",
        "\n",
        "for k in range(1000):\n",
        "  if ( (     x**(k+1) / math.factorial(k+1)  ) < epsilon):\n",
        "    break\n",
        "print(k)\n",
        "\n",
        "cos_to_x = 0\n",
        "for i in range(k):\n",
        "    print(i,' ',cos_to_x, ' delta ',((-1)**i)*(x**(2*i)/math.factorial(2*i))  ) \n",
        "    cos_to_x +=((-1)**i)*(x**(2*i)/math.factorial(2*i)) \n",
        "    \n",
        "print('math.cos(30) = ',math.cos(math.radians(30)))"
      ],
      "execution_count": 63,
      "outputs": [
        {
          "output_type": "stream",
          "text": [
            "14\n",
            "0   0  delta  1.0\n",
            "1   1.0  delta  -0.13707783890401884\n",
            "2   0.8629221610959812  delta  0.003131722319766023\n",
            "3   0.8660538834157472  delta  -2.861931517606714e-05\n",
            "4   0.8660252641005711  delta  1.401097812588669e-07\n",
            "5   0.8660254042103523  delta  -4.2679880053956164e-10\n",
            "6   0.8660254037835535  delta  8.864342003756137e-13\n",
            "7   0.8660254037844399  delta  -1.335280049649463e-15\n",
            "8   0.8660254037844386  delta  1.5253108628133283e-18\n",
            "9   0.8660254037844386  delta  -1.3665772335377477e-21\n",
            "10   0.8660254037844386  delta  9.859339677304584e-25\n",
            "11   0.8660254037844386  delta  -5.850636259677744e-28\n",
            "12   0.8660254037844386  delta  2.905770198152598e-31\n",
            "13   0.8660254037844386  delta  -1.22558984342911e-34\n",
            "math.cos(30) =  0.8660254037844387\n"
          ],
          "name": "stdout"
        }
      ]
    },
    {
      "cell_type": "code",
      "metadata": {
        "colab": {
          "base_uri": "https://localhost:8080/"
        },
        "id": "2-SWK9nvBCLH",
        "outputId": "c093efc5-620e-442f-8a1f-1130bd6b247c"
      },
      "source": [
        "import math\n",
        "\n",
        "x =  math.radians(30)\n",
        "epsilon = 10**(-14)\n",
        "delta = 1\n",
        "cos_to_x = 0\n",
        "i = 0\n",
        "while  epsilon <= abs(delta):\n",
        "  delta = ((-1)**i)*(x**(2*i)/math.factorial(2*i)) \n",
        "  cos_to_x += delta\n",
        "  i = i+1\n",
        "\n",
        "print(i-1) \n",
        "print('cos_to_x = ',cos_to_x)    \n",
        "print('math.cos(x) = ',math.cos(x))"
      ],
      "execution_count": 65,
      "outputs": [
        {
          "output_type": "stream",
          "text": [
            "7\n",
            "cos_to_x =  0.8660254037844386\n",
            "math.cos(x) =  0.8660254037844387\n"
          ],
          "name": "stdout"
        }
      ]
    },
    {
      "cell_type": "markdown",
      "metadata": {
        "id": "2XfQvg3h0qvX"
      },
      "source": [
        "# *   **$\\frac{1}{1-x}$**"
      ]
    },
    {
      "cell_type": "code",
      "metadata": {
        "colab": {
          "base_uri": "https://localhost:8080/"
        },
        "id": "1C5aSPKEDgwo",
        "outputId": "b1cd1028-1574-4b19-e0aa-50fd9c7520d5"
      },
      "source": [
        "import math\n",
        "\n",
        "x = 0.5\n",
        "func_to_x = 1 + x + x**2 + x**3 + x**4\n",
        "print(func_to_x)"
      ],
      "execution_count": 70,
      "outputs": [
        {
          "output_type": "stream",
          "text": [
            "1.9375\n"
          ],
          "name": "stdout"
        }
      ]
    },
    {
      "cell_type": "code",
      "metadata": {
        "colab": {
          "base_uri": "https://localhost:8080/"
        },
        "id": "bIc7jsYUDgwp",
        "outputId": "c6ecc762-9d59-46e6-eca9-cc35af3a996e"
      },
      "source": [
        "print(1/(1-(0.5)))"
      ],
      "execution_count": 69,
      "outputs": [
        {
          "output_type": "stream",
          "text": [
            "2.0\n"
          ],
          "name": "stdout"
        }
      ]
    },
    {
      "cell_type": "code",
      "metadata": {
        "colab": {
          "base_uri": "https://localhost:8080/"
        },
        "id": "kB9g_Gz2Dgwp",
        "outputId": "5929c4c3-fc23-4544-a1b0-288b9a9305f7"
      },
      "source": [
        "import math\n",
        "\n",
        "x = 0.5\n",
        "func_to_x = 0\n",
        "for i in range(10):\n",
        "    func_to_x += x**(i)\n",
        "print(func_to_x)"
      ],
      "execution_count": 71,
      "outputs": [
        {
          "output_type": "stream",
          "text": [
            "1.998046875\n"
          ],
          "name": "stdout"
        }
      ]
    },
    {
      "cell_type": "markdown",
      "metadata": {
        "id": "uUCNyzotNk_b"
      },
      "source": [
        "Taylor series for $f(x) = \\frac{1}{1-x} $ about $c=0$ (Maclaurin) \n",
        "$$ E_n = \\frac{f^{(n+1)}(\\xi)}{(n+1)!}(x-c)^{(n+1)}  = \n",
        "\\frac{\\frac{(n+1)!}{(1-\\xi)^{(n+1)}}}{(n+1)!}x^{(n+1)} \\le\n",
        " \\frac{\\frac{(n+1)!}{(1-x)^{(n+1)}}}{(n+1)!} x^{(n+1)}\\text{ given that }$$\n",
        "\n",
        "If we want \n",
        "$E_n \\le \\epsilon$ then we need $n$ such that because $\\frac{(n+1)!}{(1-x)^{(n+1)}} \\ge \\frac{(n+1)!}{(1-\\xi)^{(n+1)}}$, for  $c=0 \\le \\xi \\le x$ \n",
        "\n",
        "$$ \\frac{\\frac{(n+1)!}{(1-x)^{(n+1)}}}{(n+1)!}x^{(n+1)} < \\epsilon$$ \n",
        "$$ \\frac{x^{(n+1)}}{(1- x)^{(n+1)}}< \\epsilon$$ \n",
        "\n",
        "because $ \\frac{(n+1)!}{(1-\\xi)^{(n+1)}}\\ge \\frac{(n+1)!}{(1-x)^{(n+1)}}$, for  $0 \\le \\xi \\le x$"
      ]
    },
    {
      "cell_type": "code",
      "metadata": {
        "colab": {
          "base_uri": "https://localhost:8080/"
        },
        "id": "UtV8XnXiDgwp",
        "outputId": "be5d4661-0264-4050-c828-21f4154556a4"
      },
      "source": [
        "import math\n",
        "\n",
        "x = 0.4\n",
        "epsilon = 10**(-4)\n",
        "\n",
        "for k in range(1000):\n",
        "  if ( (     x**(k+1) / (1-x)**(k+1)  ) < epsilon):\n",
        "    break\n",
        "print(k)\n",
        "\n",
        "func_to_x = 0\n",
        "for i in range(k):\n",
        "    print(i,' ',func_to_x, ' delta ',x**(i) ) \n",
        "    func_to_x +=x**(i)\n",
        "    \n",
        "print('operacion python 1/(1-x) = ',1/(1-x))"
      ],
      "execution_count": 100,
      "outputs": [
        {
          "output_type": "stream",
          "text": [
            "22\n",
            "0   0  delta  1.0\n",
            "1   1.0  delta  0.4\n",
            "2   1.4  delta  0.16000000000000003\n",
            "3   1.56  delta  0.06400000000000002\n",
            "4   1.624  delta  0.025600000000000005\n",
            "5   1.6496000000000002  delta  0.010240000000000003\n",
            "6   1.6598400000000002  delta  0.0040960000000000015\n",
            "7   1.6639360000000003  delta  0.0016384000000000006\n",
            "8   1.6655744000000003  delta  0.0006553600000000003\n",
            "9   1.6662297600000004  delta  0.0002621440000000001\n",
            "10   1.6664919040000004  delta  0.00010485760000000006\n",
            "11   1.6665967616000004  delta  4.1943040000000025e-05\n",
            "12   1.6666387046400004  delta  1.677721600000001e-05\n",
            "13   1.6666554818560004  delta  6.7108864000000044e-06\n",
            "14   1.6666621927424004  delta  2.684354560000002e-06\n",
            "15   1.6666648770969603  delta  1.073741824000001e-06\n",
            "16   1.6666659508387842  delta  4.2949672960000036e-07\n",
            "17   1.6666663803355137  delta  1.7179869184000017e-07\n",
            "18   1.6666665521342057  delta  6.871947673600007e-08\n",
            "19   1.6666666208536824  delta  2.748779069440003e-08\n",
            "20   1.6666666483414732  delta  1.0995116277760013e-08\n",
            "21   1.6666666593365895  delta  4.398046511104005e-09\n",
            "operacion python 1/(1-x) =  1.6666666666666667\n"
          ],
          "name": "stdout"
        }
      ]
    },
    {
      "cell_type": "code",
      "metadata": {
        "colab": {
          "base_uri": "https://localhost:8080/"
        },
        "id": "OJxTawQLDgwp",
        "outputId": "725822a4-5d9b-4fd0-9e5a-3c63558b991e"
      },
      "source": [
        "import math\n",
        "\n",
        "x = 0.3\n",
        "epsilon = 10**(-16)\n",
        "\n",
        "for k in range(1000):\n",
        "  if ( (     x**(k+1) / (1-x)**(k+1)  ) < epsilon):\n",
        "    break\n",
        "print(k)\n",
        "\n",
        "func_to_x = 0\n",
        "for i in range(k):\n",
        "    print(i,' ',func_to_x, ' delta ',x**(i) ) \n",
        "    func_to_x +=x**(i)\n",
        "    \n",
        "print('operacion python 1/(1-x) = ',1/(1-x))"
      ],
      "execution_count": 102,
      "outputs": [
        {
          "output_type": "stream",
          "text": [
            "43\n",
            "0   0  delta  1.0\n",
            "1   1.0  delta  0.3\n",
            "2   1.3  delta  0.09\n",
            "3   1.3900000000000001  delta  0.026999999999999996\n",
            "4   1.417  delta  0.0081\n",
            "5   1.4251  delta  0.0024299999999999994\n",
            "6   1.42753  delta  0.0007289999999999998\n",
            "7   1.428259  delta  0.00021869999999999995\n",
            "8   1.4284777  delta  6.560999999999998e-05\n",
            "9   1.42854331  delta  1.9682999999999994e-05\n",
            "10   1.4285629930000001  delta  5.9048999999999975e-06\n",
            "11   1.4285688979000002  delta  1.7714699999999993e-06\n",
            "12   1.4285706693700002  delta  5.314409999999998e-07\n",
            "13   1.4285712008110003  delta  1.5943229999999992e-07\n",
            "14   1.4285713602433003  delta  4.782968999999997e-08\n",
            "15   1.4285714080729903  delta  1.4348906999999992e-08\n",
            "16   1.4285714224218973  delta  4.3046720999999976e-09\n",
            "17   1.4285714267265694  delta  1.291401629999999e-09\n",
            "18   1.428571428017971  delta  3.8742048899999975e-10\n",
            "19   1.4285714284053916  delta  1.1622614669999992e-10\n",
            "20   1.4285714285216178  delta  3.4867844009999975e-11\n",
            "21   1.4285714285564857  delta  1.0460353202999992e-11\n",
            "22   1.428571428566946  delta  3.1381059608999976e-12\n",
            "23   1.4285714285700841  delta  9.414317882699991e-13\n",
            "24   1.4285714285710256  delta  2.8242953648099974e-13\n",
            "25   1.428571428571308  delta  8.472886094429993e-14\n",
            "26   1.4285714285713929  delta  2.5418658283289975e-14\n",
            "27   1.4285714285714182  delta  7.625597484986993e-15\n",
            "28   1.4285714285714257  delta  2.2876792454960975e-15\n",
            "29   1.428571428571428  delta  6.863037736488292e-16\n",
            "30   1.4285714285714286  delta  2.0589113209464878e-16\n",
            "31   1.4285714285714288  delta  6.176733962839464e-17\n",
            "32   1.4285714285714288  delta  1.853020188851839e-17\n",
            "33   1.4285714285714288  delta  5.559060566555516e-18\n",
            "34   1.4285714285714288  delta  1.6677181699666547e-18\n",
            "35   1.4285714285714288  delta  5.003154509899964e-19\n",
            "36   1.4285714285714288  delta  1.5009463529699892e-19\n",
            "37   1.4285714285714288  delta  4.5028390589099675e-20\n",
            "38   1.4285714285714288  delta  1.3508517176729902e-20\n",
            "39   1.4285714285714288  delta  4.05255515301897e-21\n",
            "40   1.4285714285714288  delta  1.2157665459056911e-21\n",
            "41   1.4285714285714288  delta  3.647299637717073e-22\n",
            "42   1.4285714285714288  delta  1.0941898913151219e-22\n",
            "operacion python 1/(1-x) =  1.4285714285714286\n"
          ],
          "name": "stdout"
        }
      ]
    },
    {
      "cell_type": "code",
      "metadata": {
        "colab": {
          "base_uri": "https://localhost:8080/"
        },
        "id": "cYyC-53mDgwp",
        "outputId": "db30f214-ca5a-45d7-9eed-8ccdd23df320"
      },
      "source": [
        "import math\n",
        "\n",
        "x = 0.3\n",
        "epsilon = 10**(-4)\n",
        "delta = 1\n",
        "func_to_x = 0\n",
        "i = 0\n",
        "while  epsilon <= abs(delta):\n",
        "  delta = x**(i)\n",
        "  func_to_x += delta\n",
        "  i = i+1\n",
        "\n",
        "print(i-1) \n",
        "print('func_to_x = ',func_to_x)    \n",
        "print('operacion python 1/(1-x) = ',1/(1-x))"
      ],
      "execution_count": 72,
      "outputs": [
        {
          "output_type": "stream",
          "text": [
            "8\n",
            "func_to_x =  1.42854331\n",
            "operacion python 1/(1-x) =  1.4285714285714286\n"
          ],
          "name": "stdout"
        }
      ]
    },
    {
      "cell_type": "markdown",
      "metadata": {
        "id": "8zkr69Ri1I5_"
      },
      "source": [
        "# *   **ln(x)**"
      ]
    },
    {
      "cell_type": "code",
      "metadata": {
        "colab": {
          "base_uri": "https://localhost:8080/"
        },
        "id": "knUF35O-Gh5d",
        "outputId": "7268580e-0cbc-4554-a771-1ec8101ddac0"
      },
      "source": [
        "import math\n",
        "\n",
        "x = 0.5\n",
        "ln_to_x = x-1 - (x-1)**2 / 2 + (x-1)**3/ 3 - (x-1)**4 / 4 + (x-1)**5 / 5\n",
        "print(ln_to_x)"
      ],
      "execution_count": 80,
      "outputs": [
        {
          "output_type": "stream",
          "text": [
            "-0.6885416666666666\n"
          ],
          "name": "stdout"
        }
      ]
    },
    {
      "cell_type": "code",
      "metadata": {
        "colab": {
          "base_uri": "https://localhost:8080/"
        },
        "id": "gmKsf7JmGh5d",
        "outputId": "2b988e0a-0707-4529-f1a8-84554fde3cc8"
      },
      "source": [
        "print(math.log(0.5))"
      ],
      "execution_count": 83,
      "outputs": [
        {
          "output_type": "stream",
          "text": [
            "-0.6931471805599453\n"
          ],
          "name": "stdout"
        }
      ]
    },
    {
      "cell_type": "code",
      "metadata": {
        "colab": {
          "base_uri": "https://localhost:8080/"
        },
        "id": "WDIL7XSKGh5d",
        "outputId": "1e07c06e-f223-4517-ab42-885ccfee0d72"
      },
      "source": [
        "import math\n",
        "\n",
        "x = 0.5\n",
        "ln_to_x = 0\n",
        "for i in range(1,10):\n",
        "    coef = (-1)**(i-1)\n",
        "    num = (x-1)**(i)\n",
        "    denom = i\n",
        "    ln_to_x += ( coef ) * ( (num)/(denom) )\n",
        "\n",
        "print(ln_to_x)"
      ],
      "execution_count": 88,
      "outputs": [
        {
          "output_type": "stream",
          "text": [
            "-0.6929671999007935\n"
          ],
          "name": "stdout"
        }
      ]
    },
    {
      "cell_type": "markdown",
      "metadata": {
        "id": "ORi3WOfsdgYi"
      },
      "source": [
        "Taylor series for $f(x) = ln(x)$ about $c=1$ \n",
        "$$ E_n = \\frac{f^{(n+1)}(\\xi)}{(n+1)!}(x-c)^{(n+1)}  = \n",
        "\\frac{(-1)^n *(n)!*\\xi^{-(n+1)} }{(n+1)!}(x-1)^{(n+1)} \\le\n",
        " \\frac{(-1)^n *(n)!*x^{-(n+1)}}{(n+1)!} (x-1)^{(n+1)}\\text{ given that }$$\n",
        "\n",
        "If we want \n",
        "$E_n \\le \\epsilon$ then we need $n$ such that because $(-1)^n *(n)!*x^{-(n+1)} \\ge (-1)^n *(n)!*\\xi^{-(n+1)}$, for  $c=0 \\le \\xi \\le x$ \n",
        "\n",
        "$$ \\frac{(-1)^n *(n)!*x^{-(n+1)}}{(n+1)!}x^{(n+1)} < \\epsilon$$ \n",
        "\n",
        "because $(-1)^n *(n)!*x^{-(n+1)} \\ge (-1)^n *(n)!*\\xi^{-(n+1)}$, for  $0 \\le \\xi \\le x$"
      ]
    },
    {
      "cell_type": "code",
      "metadata": {
        "colab": {
          "base_uri": "https://localhost:8080/"
        },
        "id": "B_3tJhNsGh5d",
        "outputId": "086fce26-fab3-4569-f11e-fdbfa545d093"
      },
      "source": [
        "import math\n",
        "\n",
        "x = 0.5\n",
        "epsilon = 10**(-4)\n",
        "\n",
        "for k in range(1000):\n",
        "  if ( (  ( (-1)**k )* (math.factorial(k))* (x**(-(k+1)))* ( x**(k+1) / math.factorial(k+1))  ) < epsilon):\n",
        "    break\n",
        "print(k)\n",
        "\n",
        "ln_to_x = 0\n",
        "for i in range(1,k):\n",
        "    print(i,' ',ln_to_x, ' delta ',( (-1)**(i-1) ) * ( ((x-1)**(i))/(i) ) ) \n",
        "    ln_to_x +=( (-1)**(i-1) ) * ( ((x-1)**(i))/(i) )\n",
        "    \n",
        "print('math.log(0.5) = ',math.log(0.5))"
      ],
      "execution_count": 118,
      "outputs": [
        {
          "output_type": "stream",
          "text": [
            "1\n",
            "math.log(0.5) =  -0.6931471805599453\n"
          ],
          "name": "stdout"
        }
      ]
    },
    {
      "cell_type": "markdown",
      "metadata": {
        "id": "a9QkMkBwiPKX"
      },
      "source": [
        "$$ \\frac{(-1)^n *(n)!*x^{-(n+1)}}{(n+1)!}x^{(n+1)} < \\frac{1}{(n+1)!}x^{(n+1)} <\\epsilon$$ "
      ]
    },
    {
      "cell_type": "code",
      "metadata": {
        "colab": {
          "base_uri": "https://localhost:8080/"
        },
        "id": "S8TpiErWGh5d",
        "outputId": "dc138ec3-3e62-445d-c771-0cb1ae722154"
      },
      "source": [
        "import math\n",
        "\n",
        "x = 0.5\n",
        "epsilon = 10**(-16)\n",
        "\n",
        "for k in range(1000):\n",
        "  if ( (   ( x**(k+1) / math.factorial(k+1))  ) < epsilon):\n",
        "    break\n",
        "print(k)\n",
        "\n",
        "ln_to_x = 0\n",
        "for i in range(1,k):\n",
        "    print(i,' ',ln_to_x, ' delta ',( (-1)**(i-1) ) * ( ((x-1)**(i))/(i) ) ) \n",
        "    ln_to_x +=( (-1)**(i-1) ) * ( ((x-1)**(i))/(i) )\n",
        "    \n",
        "print('math.log(0.5) = ',math.log(0.5))"
      ],
      "execution_count": 119,
      "outputs": [
        {
          "output_type": "stream",
          "text": [
            "14\n",
            "1   0  delta  -0.5\n",
            "2   -0.5  delta  -0.125\n",
            "3   -0.625  delta  -0.041666666666666664\n",
            "4   -0.6666666666666666  delta  -0.015625\n",
            "5   -0.6822916666666666  delta  -0.00625\n",
            "6   -0.6885416666666666  delta  -0.0026041666666666665\n",
            "7   -0.6911458333333332  delta  -0.0011160714285714285\n",
            "8   -0.6922619047619046  delta  -0.00048828125\n",
            "9   -0.6927501860119046  delta  -0.00021701388888888888\n",
            "10   -0.6929671999007935  delta  -9.765625e-05\n",
            "11   -0.6930648561507935  delta  -4.438920454545455e-05\n",
            "12   -0.6931092453553389  delta  -2.0345052083333332e-05\n",
            "13   -0.6931295904074223  delta  -9.390024038461539e-06\n",
            "math.log(0.5) =  -0.6931471805599453\n"
          ],
          "name": "stdout"
        }
      ]
    },
    {
      "cell_type": "code",
      "metadata": {
        "colab": {
          "base_uri": "https://localhost:8080/"
        },
        "id": "fXpX3q4OGh5d",
        "outputId": "8a589994-e6fb-413a-e8e0-a7104b3cb962"
      },
      "source": [
        "import math\n",
        "\n",
        "x = 0.3\n",
        "epsilon = 10**(-4)\n",
        "delta = 1\n",
        "ln_to_x = 0\n",
        "i = 1\n",
        "while  epsilon <= abs(delta):\n",
        "  delta = ( (-1)**(i-1) ) * ( ((x-1)**(i))/(i) )\n",
        "  ln_to_x += delta\n",
        "  i = i+1\n",
        "\n",
        "print(i-1) \n",
        "print('ln_to_x = ',ln_to_x)    \n",
        "print('math.log(x) = ',math.log(0.3))"
      ],
      "execution_count": 89,
      "outputs": [
        {
          "output_type": "stream",
          "text": [
            "18\n",
            "ln_to_x =  -1.203792162167292\n",
            "math.log(x) =  -1.2039728043259361\n"
          ],
          "name": "stdout"
        }
      ]
    }
  ]
}